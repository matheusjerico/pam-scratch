{
 "cells": [
  {
   "cell_type": "markdown",
   "metadata": {
    "colab_type": "text",
    "id": "sZe1NjCrKqGh"
   },
   "source": [
    "# Tarefa 2: Aprendizado Não-Supervisionado"
   ]
  },
  {
   "cell_type": "markdown",
   "metadata": {
    "colab_type": "text",
    "id": "GOE3VAVlKqGi"
   },
   "source": [
    "**Autor**: Matheus Jericó Palhares <br>\n",
    "**LinkedIn**: https://linkedin.com/in/matheusjerico <br>\n",
    "**Github**: https://github.com/matheusjerico"
   ]
  },
  {
   "cell_type": "markdown",
   "metadata": {
    "colab_type": "text",
    "id": "JPMP7kU5KqGi"
   },
   "source": [
    "### 1) Implementar a função “fit_pam(pontos, alpha)”, com K fixo e igual a 3. Retorne os centroids finais.\n",
    "\n",
    "**Variáveis**:\n",
    "- pontos: conjunto de pontos 2D (casos x mortes) que serão clusterizados\n",
    "- alpha: valor de α que indica a quantidade de tentativas sem melhoria de custo total médio que devem ser realizadas antes da interrupção do algoritmo\n",
    "\n"
   ]
  },
  {
   "cell_type": "markdown",
   "metadata": {
    "colab_type": "text",
    "id": "kOOo-EqIKqGj"
   },
   "source": [
    "O relatório será o notebook exportado para um arquivo HTML e deve conter:\n",
    "- Um scatter plot mostrando os medoids (com marcador x) e seus respectivos pontos (cada cluster deve estar em uma cor distinta)\n",
    "- Para cada cluster, também devem ser exibidos seus custos totais, bem como o custo total médio\n",
    "- Discorra sobre cada cluster: o que eles indicam?\n",
    "\n"
   ]
  },
  {
   "cell_type": "markdown",
   "metadata": {
    "colab_type": "text",
    "id": "jNdeyvaiKqGj"
   },
   "source": [
    "#### 1. Bibliotecas"
   ]
  },
  {
   "cell_type": "code",
   "execution_count": 1,
   "metadata": {
    "colab": {},
    "colab_type": "code",
    "id": "0l-JdNhwKqGk"
   },
   "outputs": [],
   "source": [
    "import numpy as np\n",
    "import matplotlib.pyplot as plt\n",
    "import pandas as pd\n",
    "import random as rd\n",
    "from copy import deepcopy"
   ]
  },
  {
   "cell_type": "markdown",
   "metadata": {
    "colab_type": "text",
    "id": "exdZ9qPdKqGm"
   },
   "source": [
    "#### 2. Carregando dados"
   ]
  },
  {
   "cell_type": "code",
   "execution_count": 2,
   "metadata": {
    "colab": {
     "base_uri": "https://localhost:8080/",
     "height": 204
    },
    "colab_type": "code",
    "id": "2fivjTmOKqGm",
    "outputId": "1b2404ac-6247-4141-d5fd-238464fb1ade"
   },
   "outputs": [
    {
     "data": {
      "text/html": [
       "<div>\n",
       "<style scoped>\n",
       "    .dataframe tbody tr th:only-of-type {\n",
       "        vertical-align: middle;\n",
       "    }\n",
       "\n",
       "    .dataframe tbody tr th {\n",
       "        vertical-align: top;\n",
       "    }\n",
       "\n",
       "    .dataframe thead th {\n",
       "        text-align: right;\n",
       "    }\n",
       "</style>\n",
       "<table border=\"1\" class=\"dataframe\">\n",
       "  <thead>\n",
       "    <tr style=\"text-align: right;\">\n",
       "      <th></th>\n",
       "      <th>county</th>\n",
       "      <th>cases</th>\n",
       "      <th>deaths</th>\n",
       "    </tr>\n",
       "  </thead>\n",
       "  <tbody>\n",
       "    <tr>\n",
       "      <th>0</th>\n",
       "      <td>Abbeville</td>\n",
       "      <td>84</td>\n",
       "      <td>0</td>\n",
       "    </tr>\n",
       "    <tr>\n",
       "      <th>1</th>\n",
       "      <td>Acadia</td>\n",
       "      <td>741</td>\n",
       "      <td>21</td>\n",
       "    </tr>\n",
       "    <tr>\n",
       "      <th>2</th>\n",
       "      <td>Accomack</td>\n",
       "      <td>116</td>\n",
       "      <td>0</td>\n",
       "    </tr>\n",
       "    <tr>\n",
       "      <th>3</th>\n",
       "      <td>Ada</td>\n",
       "      <td>4264</td>\n",
       "      <td>41</td>\n",
       "    </tr>\n",
       "    <tr>\n",
       "      <th>4</th>\n",
       "      <td>Adair</td>\n",
       "      <td>325</td>\n",
       "      <td>8</td>\n",
       "    </tr>\n",
       "  </tbody>\n",
       "</table>\n",
       "</div>"
      ],
      "text/plain": [
       "      county  cases  deaths\n",
       "0  Abbeville     84       0\n",
       "1     Acadia    741      21\n",
       "2   Accomack    116       0\n",
       "3        Ada   4264      41\n",
       "4      Adair    325       8"
      ]
     },
     "execution_count": 2,
     "metadata": {},
     "output_type": "execute_result"
    }
   ],
   "source": [
    "dataset = pd.read_csv(\"./Dataset/base-covid-19-us.csv\")\n",
    "dataset.head()"
   ]
  },
  {
   "cell_type": "code",
   "execution_count": 3,
   "metadata": {
    "colab": {
     "base_uri": "https://localhost:8080/",
     "height": 36
    },
    "colab_type": "code",
    "id": "rJTipPtuKqGp",
    "outputId": "eff8a350-886e-4627-9937-f7c25ca52d33"
   },
   "outputs": [
    {
     "data": {
      "text/plain": [
       "(1570, 3)"
      ]
     },
     "execution_count": 3,
     "metadata": {},
     "output_type": "execute_result"
    }
   ],
   "source": [
    "dataset.shape"
   ]
  },
  {
   "cell_type": "code",
   "execution_count": 4,
   "metadata": {
    "colab": {},
    "colab_type": "code",
    "id": "SWsCdz0SKqGr"
   },
   "outputs": [],
   "source": [
    "dataset.sort_values(by=['deaths'], inplace=True)"
   ]
  },
  {
   "cell_type": "code",
   "execution_count": 5,
   "metadata": {
    "colab": {
     "base_uri": "https://localhost:8080/",
     "height": 284
    },
    "colab_type": "code",
    "id": "RqmLHZAtKqGt",
    "outputId": "7ec7b7ff-009f-4215-d8ff-e33cf9af51cc"
   },
   "outputs": [
    {
     "data": {
      "text/plain": [
       "<matplotlib.collections.PathCollection at 0x7f6f1c2e81d0>"
      ]
     },
     "execution_count": 5,
     "metadata": {},
     "output_type": "execute_result"
    },
    {
     "data": {
      "image/png": "[encoded data removed]",
      "text/plain": [
       "<Figure size 432x288 with 1 Axes>"
      ]
     },
     "metadata": {
      "needs_background": "light"
     },
     "output_type": "display_data"
    }
   ],
   "source": [
    "cases = dataset['cases'].values\n",
    "deaths = dataset['deaths'].values\n",
    "X = np.array(list(zip(cases, deaths)))\n",
    "plt.scatter(cases, deaths, c='black', s=10)"
   ]
  },
  {
   "cell_type": "markdown",
   "metadata": {
    "colab_type": "text",
    "id": "6vV5GQrXKqGv"
   },
   "source": [
    "#### 3. Criando classe do Pam"
   ]
  },
  {
   "cell_type": "code",
   "execution_count": 6,
   "metadata": {
    "colab": {},
    "colab_type": "code",
    "id": "m2UKis2QKqGw"
   },
   "outputs": [],
   "source": [
    "class Pam:\n",
    "    def __init__(self, k, pontos, alpha = 100):\n",
    "        self.k = k\n",
    "        self.alpha = alpha\n",
    "        self.data = pontos\n",
    "        \n",
    "    # Calculando custo\n",
    "    def custo(self, a, b):\n",
    "      retorno = (a[0] - b[0])**2 + (a[1] - b[1])**2\n",
    "      return retorno\n",
    "    \n",
    "    def fit(self):\n",
    "        self.medoids = []\n",
    "        self.mse = -1\n",
    "        self.custos_totais = []\n",
    "\n",
    "        medoids_tmp = []\n",
    "        indices_para_escolher = list(range(len(self.data)))\n",
    "        indices = np.random.randint(0, len(self.data), size=self.k)\n",
    "        tentativas = 0\n",
    "\n",
    "        for indice in indices:\n",
    "            indices_para_escolher.remove(indice)\n",
    "            self.medoids.append(self.data[indice])\n",
    "        \n",
    "        # armazenando o valor dos medoids quando ele for atualizado\n",
    "        indices_tmp = []\n",
    "        \n",
    "        # label dos clusters \n",
    "        self.clusters = np.zeros(len(self.data))\n",
    "\n",
    "        custos_totais_tmp = [0] * self.k\n",
    "        \n",
    "        # Loop de treinamento\n",
    "        for i in range(len(self.data) - self.k):\n",
    "            # atribuindo cada valor ao cluster mais próximo\n",
    "            for j in range(len(self.data)):\n",
    "                if j in indices:\n",
    "                    continue\n",
    "\n",
    "                custos = []\n",
    "                for medoid in self.medoids:\n",
    "                    custos.append(self.custo(self.data[j], medoid))\n",
    "                cluster = np.argmin(custos)\n",
    "                self.clusters[j] = cluster\n",
    "                custos_totais_tmp[cluster] += min(custos)\n",
    "\n",
    "            # calculando o custo total medio\n",
    "            mse_tmp = 0\n",
    "            unique, counts = np.unique(self.clusters, return_counts=True)\n",
    "            for j in range(self.k):\n",
    "                if counts[j] > 0:\n",
    "                    custos_totais_tmp[j] += custos_totais_tmp[j]/counts[j]\n",
    "\n",
    "            mse_tmp = np.mean(custos_totais_tmp)\n",
    "\n",
    "            if (self.mse == -1) | (self.mse > mse_tmp):\n",
    "                self.mse = mse_tmp\n",
    "                self.custos_totais = deepcopy(custos_totais_tmp)\n",
    "                # guardando valores dos indices dos medoids antigos\n",
    "                indices_tmp = deepcopy(indices)\n",
    "                tentativas = 0\n",
    "            else:\n",
    "                tentativas += 1\n",
    "\n",
    "            if tentativas >= self.alpha:\n",
    "                break\n",
    "\n",
    "            # encontrando novo medoid\n",
    "            posicao = np.random.randint(0, len(indices_para_escolher)) \n",
    "            indice = indices_para_escolher[posicao]\n",
    "            indices_para_escolher.remove(indice)\n",
    "            custos = []\n",
    "            for medoid in self.medoids:\n",
    "                custos.append(self.custo(self.data[indice], medoid))\n",
    "            new_medoid_index = np.argmin(custos)\n",
    "            indices[new_medoid_index] = indice\n",
    "            self.medoids[new_medoid_index] = self.data[indice]\n",
    "\n",
    "    def plot(self):\n",
    "        colors = int(self.k/6 + 1)*['r', 'g', 'b', 'y', 'c', 'm']\n",
    "        fig, ax = plt.subplots()\n",
    "\n",
    "        for i in range(self.k):\n",
    "            points = np.array([self.data[j] for j in range(len(self.data)) if self.clusters[j] == i])\n",
    "            ax.scatter(points[:, 0], points[:, 1], s=7, c=colors[i])\n",
    "            for medoid in self.medoids:\n",
    "                ax.scatter(medoid[0], medoid[1], marker='X', s=100, c='black')"
   ]
  },
  {
   "cell_type": "markdown",
   "metadata": {
    "colab_type": "text",
    "id": "IuD8Geo6KqGz"
   },
   "source": [
    "#### 4. Inicializando a classe com os parametros desejados do exercício e realizando o treinamento"
   ]
  },
  {
   "cell_type": "code",
   "execution_count": 7,
   "metadata": {
    "colab": {
     "base_uri": "https://localhost:8080/",
     "height": 265
    },
    "colab_type": "code",
    "id": "N7I50joxKqGz",
    "outputId": "5ff6fa42-e698-4add-c040-81eb26b7d52f"
   },
   "outputs": [
    {
     "data": {
      "image/png": "[encoded data removed]",
      "text/plain": [
       "<Figure size 432x288 with 1 Axes>"
      ]
     },
     "metadata": {
      "needs_background": "light"
     },
     "output_type": "display_data"
    }
   ],
   "source": [
    "pam = Pam(k = 3, pontos = X, alpha = 100)\n",
    "pam.fit()\n",
    "pam.plot()"
   ]
  },
  {
   "cell_type": "code",
   "execution_count": 8,
   "metadata": {
    "colab": {
     "base_uri": "https://localhost:8080/",
     "height": 36
    },
    "colab_type": "code",
    "id": "dEQag21zKqG1",
    "outputId": "e5b997d2-9c84-4e64-ca33-85e228033c7f"
   },
   "outputs": [
    {
     "data": {
      "text/plain": [
       "[array([39302,  1106]), array([87378,  3236]), array([70,  0])]"
      ]
     },
     "execution_count": 8,
     "metadata": {},
     "output_type": "execute_result"
    }
   ],
   "source": [
    "pam.medoids"
   ]
  },
  {
   "cell_type": "code",
   "execution_count": 9,
   "metadata": {
    "colab": {},
    "colab_type": "code",
    "id": "AeCd2hdNKqG4"
   },
   "outputs": [],
   "source": [
    "dataset['cluster'] = pam.clusters"
   ]
  },
  {
   "cell_type": "code",
   "execution_count": 10,
   "metadata": {
    "colab": {
     "base_uri": "https://localhost:8080/",
     "height": 226
    },
    "colab_type": "code",
    "id": "OSwfR63yKqG6",
    "outputId": "e2133eef-3c8b-4aab-c600-ac49935d1e17"
   },
   "outputs": [
    {
     "name": "stdout",
     "output_type": "stream",
     "text": [
      "<class 'pandas.core.frame.DataFrame'>\n",
      "Int64Index: 1570 entries, 0 to 995\n",
      "Data columns (total 4 columns):\n",
      " #   Column   Non-Null Count  Dtype  \n",
      "---  ------   --------------  -----  \n",
      " 0   county   1570 non-null   object \n",
      " 1   cases    1570 non-null   int64  \n",
      " 2   deaths   1570 non-null   int64  \n",
      " 3   cluster  1570 non-null   float64\n",
      "dtypes: float64(1), int64(2), object(1)\n",
      "memory usage: 61.3+ KB\n"
     ]
    }
   ],
   "source": [
    "dataset.info()"
   ]
  },
  {
   "cell_type": "code",
   "execution_count": 11,
   "metadata": {
    "colab": {
     "base_uri": "https://localhost:8080/",
     "height": 204
    },
    "colab_type": "code",
    "id": "U7FHfnPjKqG9",
    "outputId": "8c7ea4b2-b8ad-4c42-ee2b-4cfd2cd40e65"
   },
   "outputs": [
    {
     "data": {
      "text/html": [
       "<div>\n",
       "<style scoped>\n",
       "    .dataframe tbody tr th:only-of-type {\n",
       "        vertical-align: middle;\n",
       "    }\n",
       "\n",
       "    .dataframe tbody tr th {\n",
       "        vertical-align: top;\n",
       "    }\n",
       "\n",
       "    .dataframe thead th {\n",
       "        text-align: right;\n",
       "    }\n",
       "</style>\n",
       "<table border=\"1\" class=\"dataframe\">\n",
       "  <thead>\n",
       "    <tr style=\"text-align: right;\">\n",
       "      <th></th>\n",
       "      <th>county</th>\n",
       "      <th>cases</th>\n",
       "      <th>deaths</th>\n",
       "      <th>cluster</th>\n",
       "    </tr>\n",
       "  </thead>\n",
       "  <tbody>\n",
       "    <tr>\n",
       "      <th>0</th>\n",
       "      <td>Abbeville</td>\n",
       "      <td>84</td>\n",
       "      <td>0</td>\n",
       "      <td>2.0</td>\n",
       "    </tr>\n",
       "    <tr>\n",
       "      <th>865</th>\n",
       "      <td>Manitowoc</td>\n",
       "      <td>17</td>\n",
       "      <td>0</td>\n",
       "      <td>2.0</td>\n",
       "    </tr>\n",
       "    <tr>\n",
       "      <th>866</th>\n",
       "      <td>Marathon</td>\n",
       "      <td>108</td>\n",
       "      <td>0</td>\n",
       "      <td>2.0</td>\n",
       "    </tr>\n",
       "    <tr>\n",
       "      <th>869</th>\n",
       "      <td>Maries</td>\n",
       "      <td>20</td>\n",
       "      <td>0</td>\n",
       "      <td>2.0</td>\n",
       "    </tr>\n",
       "    <tr>\n",
       "      <th>871</th>\n",
       "      <td>Marinette</td>\n",
       "      <td>27</td>\n",
       "      <td>0</td>\n",
       "      <td>2.0</td>\n",
       "    </tr>\n",
       "  </tbody>\n",
       "</table>\n",
       "</div>"
      ],
      "text/plain": [
       "        county  cases  deaths  cluster\n",
       "0    Abbeville     84       0      2.0\n",
       "865  Manitowoc     17       0      2.0\n",
       "866   Marathon    108       0      2.0\n",
       "869     Maries     20       0      2.0\n",
       "871  Marinette     27       0      2.0"
      ]
     },
     "execution_count": 11,
     "metadata": {},
     "output_type": "execute_result"
    }
   ],
   "source": [
    "dataset.head()"
   ]
  },
  {
   "cell_type": "markdown",
   "metadata": {
    "colab_type": "text",
    "id": "XC6PmG7UKqG_"
   },
   "source": [
    "#### 5. Visualizando graficamente"
   ]
  },
  {
   "cell_type": "code",
   "execution_count": 12,
   "metadata": {
    "colab": {
     "base_uri": "https://localhost:8080/",
     "height": 265
    },
    "colab_type": "code",
    "id": "d2Dn9LEMKqG_",
    "outputId": "35915c0a-86f0-4ee7-da3e-856ccf7aee21"
   },
   "outputs": [
    {
     "data": {
      "image/png": "[encoded data removed]",
      "text/plain": [
       "<Figure size 432x288 with 1 Axes>"
      ]
     },
     "metadata": {
      "needs_background": "light"
     },
     "output_type": "display_data"
    }
   ],
   "source": [
    "pam.plot()"
   ]
  },
  {
   "cell_type": "code",
   "execution_count": 13,
   "metadata": {
    "colab": {
     "base_uri": "https://localhost:8080/",
     "height": 36
    },
    "colab_type": "code",
    "id": "86-wn4hbKqHB",
    "outputId": "41a58833-46bb-4c2c-bfab-cabf63fcda11"
   },
   "outputs": [
    {
     "data": {
      "text/plain": [
       "[array([39302,  1106]), array([87378,  3236]), array([70,  0])]"
      ]
     },
     "execution_count": 13,
     "metadata": {},
     "output_type": "execute_result"
    }
   ],
   "source": [
    "pam.medoids"
   ]
  },
  {
   "cell_type": "markdown",
   "metadata": {
    "colab_type": "text",
    "id": "SkulBiseKqHD"
   },
   "source": [
    "**Resposta**: <br>\n",
    "Os clusters representam os estados com base na quantidade de casos e mortes do COVID-19.\n",
    "- O primeiro cluster (verde), representa os estados que tiveram baixa quantidade de casos e mortes devido ao COVID-19\n",
    "- O segundo cluster(azul), representa os estados que tiveram quantidade moderada/alta de casos e mortes devido ao COVID-19.\n",
    "- O terceiro cluster (vermelho), representa o estado de New York (possuem uma quantidade muito elevada de casos de COVID-19\n"
   ]
  },
  {
   "cell_type": "markdown",
   "metadata": {
    "colab_type": "text",
    "id": "c88Ea7w3KqHD"
   },
   "source": [
    "#### 6. Para cada cluster, também devem ser exibidas as distâncias médias entre os pontos e seu respectivo centróide final"
   ]
  },
  {
   "cell_type": "code",
   "execution_count": 14,
   "metadata": {
    "colab": {},
    "colab_type": "code",
    "id": "6jB5VyWJKqHD"
   },
   "outputs": [],
   "source": [
    "def print_custos(pam):\n",
    "    for i in range(pam.k):  \n",
    "        print(\"Custo Total entre os pontos do medoid {}: {}\".format(i, pam.custos_totais[i]))\n",
    "\n",
    "    print(\"Custo Total Médio: {}\".format(pam.mse))"
   ]
  },
  {
   "cell_type": "code",
   "execution_count": 15,
   "metadata": {
    "colab": {
     "base_uri": "https://localhost:8080/",
     "height": 93
    },
    "colab_type": "code",
    "id": "TwlvlqTyKqHF",
    "outputId": "25006658-8edd-4515-a6c6-779ae0f8dc70"
   },
   "outputs": [
    {
     "name": "stdout",
     "output_type": "stream",
     "text": [
      "Custo Total entre os pontos do medoid 0: 3240794.6790697672\n",
      "Custo Total entre os pontos do medoid 1: 938980649735.3953\n",
      "Custo Total entre os pontos do medoid 2: 15978515.073991032\n",
      "Custo Total Médio: 312999956348.38275\n"
     ]
    }
   ],
   "source": [
    "print_custos(pam)"
   ]
  },
  {
   "cell_type": "markdown",
   "metadata": {
    "colab_type": "text",
    "id": "uoOIi6i0KqHL"
   },
   "source": [
    "### **Obs**: Retirando o estado de New York, a visualização do cluster fica muito melhor."
   ]
  },
  {
   "cell_type": "markdown",
   "metadata": {
    "colab_type": "text",
    "id": "XQo32VK5KqHM"
   },
   "source": [
    "#### 7. Retirando o estado de New York\n",
    "- Retirar o estado de New York, utilizar o algoritmo Kmeans e visualizar os cluster."
   ]
  },
  {
   "cell_type": "code",
   "execution_count": 16,
   "metadata": {
    "colab": {},
    "colab_type": "code",
    "id": "fjS6Dok2KqHM"
   },
   "outputs": [],
   "source": [
    "dataset=dataset.iloc[:-1,:]"
   ]
  },
  {
   "cell_type": "code",
   "execution_count": 17,
   "metadata": {
    "colab": {
     "base_uri": "https://localhost:8080/",
     "height": 284
    },
    "colab_type": "code",
    "id": "9mCfHIhwKqHO",
    "outputId": "4db4a8fa-decc-4b1e-b18b-025c27e92c82"
   },
   "outputs": [
    {
     "data": {
      "text/plain": [
       "<matplotlib.collections.PathCollection at 0x7f6f1c127518>"
      ]
     },
     "execution_count": 17,
     "metadata": {},
     "output_type": "execute_result"
    },
    {
     "data": {
      "image/png": "[encoded data removed]",
      "text/plain": [
       "<Figure size 432x288 with 1 Axes>"
      ]
     },
     "metadata": {
      "needs_background": "light"
     },
     "output_type": "display_data"
    }
   ],
   "source": [
    "cases = dataset['cases'].values\n",
    "deaths = dataset['deaths'].values\n",
    "X = np.array(list(zip(cases, deaths)))\n",
    "plt.scatter(cases, deaths, c='black', s=10)"
   ]
  },
  {
   "cell_type": "code",
   "execution_count": 18,
   "metadata": {
    "colab": {},
    "colab_type": "code",
    "id": "zwazesNYKqHQ"
   },
   "outputs": [],
   "source": [
    "pam = Pam(k = 3, pontos = X, alpha = 100)\n",
    "pam.fit()"
   ]
  },
  {
   "cell_type": "code",
   "execution_count": 19,
   "metadata": {
    "colab": {
     "base_uri": "https://localhost:8080/",
     "height": 265
    },
    "colab_type": "code",
    "id": "BVV04LapKqHR",
    "outputId": "1784a564-999e-4eb2-cc42-056989c18fa1"
   },
   "outputs": [
    {
     "data": {
      "image/png": "[encoded data removed]",
      "text/plain": [
       "<Figure size 432x288 with 1 Axes>"
      ]
     },
     "metadata": {
      "needs_background": "light"
     },
     "output_type": "display_data"
    }
   ],
   "source": [
    "pam.plot()"
   ]
  },
  {
   "cell_type": "code",
   "execution_count": 20,
   "metadata": {
    "colab": {
     "base_uri": "https://localhost:8080/",
     "height": 36
    },
    "colab_type": "code",
    "id": "ZkSnG6rvKqHT",
    "outputId": "496d029d-d78c-4dd7-92f9-3c182fa70b2c"
   },
   "outputs": [
    {
     "data": {
      "text/plain": [
       "[array([352,   9]), array([27995,   479]), array([8600,  371])]"
      ]
     },
     "execution_count": 20,
     "metadata": {},
     "output_type": "execute_result"
    }
   ],
   "source": [
    "pam.medoids"
   ]
  },
  {
   "cell_type": "code",
   "execution_count": 21,
   "metadata": {
    "colab": {},
    "colab_type": "code",
    "id": "I2akUb9oKqHV"
   },
   "outputs": [],
   "source": [
    "dataset['cluster'] = pam.clusters"
   ]
  },
  {
   "cell_type": "code",
   "execution_count": 22,
   "metadata": {
    "colab": {
     "base_uri": "https://localhost:8080/",
     "height": 93
    },
    "colab_type": "code",
    "id": "oqhc-EgTKqHX",
    "outputId": "fe74177c-61f9-4f64-cc05-dfb4c8c7d65e"
   },
   "outputs": [
    {
     "name": "stdout",
     "output_type": "stream",
     "text": [
      "Custo Total entre os pontos do medoid 0: 811789.5645161291\n",
      "Custo Total entre os pontos do medoid 1: 184454710791.77243\n",
      "Custo Total entre os pontos do medoid 2: 1089847.656140351\n",
      "Custo Total Médio: 61485537476.331024\n"
     ]
    }
   ],
   "source": [
    "print_custos(pam)"
   ]
  },
  {
   "cell_type": "markdown",
   "metadata": {
    "colab_type": "text",
    "id": "eyu4OGf-s45V"
   },
   "source": [
    "# Desafios"
   ]
  },
  {
   "cell_type": "markdown",
   "metadata": {
    "colab_type": "text",
    "id": "iDp4sMH3tTOa"
   },
   "source": [
    "#### Plotar o gráfico que permite visualizar o elbow point, variando o valor de K e indicar qual o melhor valor"
   ]
  },
  {
   "cell_type": "code",
   "execution_count": 23,
   "metadata": {
    "colab": {},
    "colab_type": "code",
    "id": "OOIYzn5-rDv3"
   },
   "outputs": [],
   "source": [
    "def elbow_plot(data, k_max):\n",
    "    dataset = data.copy()\n",
    "    custos = []\n",
    "\n",
    "    cases = dataset['cases'].values\n",
    "    deaths = dataset['deaths'].values\n",
    "    X = np.array(list(zip(cases, deaths)))\n",
    "\n",
    "    for i in range(k_max - 2):\n",
    "        pam = Pam(k = i+2, pontos = X)\n",
    "        pam.fit()\n",
    "\n",
    "        dataset['cluster'] = pam.clusters\n",
    "        \n",
    "        custos.append([i+2, pam.mse])\n",
    "\n",
    "    x = []\n",
    "    y = []\n",
    "\n",
    "    fig, ax = plt.subplots()\n",
    "    for i in range(len(custos)):\n",
    "        x.append(custos[i][0])\n",
    "        y.append(custos[i][1])\n",
    "\n",
    "    ax.set_xlabel('Quantidade de Clusters')\n",
    "    ax.set_ylabel('Distância Média')\n",
    "\n",
    "    ax.plot(x, y, c='b', marker='x')"
   ]
  },
  {
   "cell_type": "code",
   "execution_count": 25,
   "metadata": {
    "colab": {
     "base_uri": "https://localhost:8080/",
     "height": 290
    },
    "colab_type": "code",
    "id": "H3VScWsvtXV-",
    "outputId": "9effed35-104e-4b47-aea2-5a823a421539"
   },
   "outputs": [
    {
     "data": {
      "image/png": "[encoded data removed]",
      "text/plain": [
       "<Figure size 432x288 with 1 Axes>"
      ]
     },
     "metadata": {
      "needs_background": "light"
     },
     "output_type": "display_data"
    }
   ],
   "source": [
    "elbow_plot(dataset, 8)"
   ]
  }
 ],
 "metadata": {
  "colab": {
   "name": "Trabalho 02 - kmedoids_scratch",
   "provenance": []
  },
  "kernelspec": {
   "display_name": "Python 3",
   "language": "python",
   "name": "python3"
  },
  "language_info": {
   "codemirror_mode": {
    "name": "ipython",
    "version": 3
   },
   "file_extension": ".py",
   "mimetype": "text/x-python",
   "name": "python",
   "nbconvert_exporter": "python",
   "pygments_lexer": "ipython3",
   "version": "3.6.10"
  }
 },
 "nbformat": 4,
 "nbformat_minor": 1
}
